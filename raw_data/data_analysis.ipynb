{
 "cells": [
  {
   "cell_type": "code",
   "execution_count": 1,
   "metadata": {},
   "outputs": [],
   "source": [
    "import pandas as pd\n",
    "import numpy as np\n",
    "import seaborn as sns\n",
    "import matplotlib.pyplot as plt\n",
    "from scipy import stats\n",
    "\n",
    "sns.set()"
   ]
  },
  {
   "cell_type": "code",
   "execution_count": 2,
   "metadata": {},
   "outputs": [],
   "source": [
    "df = pd.read_csv(\"./edstay_encounters.csv\")"
   ]
  },
  {
   "cell_type": "code",
   "execution_count": 3,
   "metadata": {},
   "outputs": [
    {
     "data": {
      "text/plain": [
       "Index(['subject_id', 'stay_id', 'temperature', 'heartrate', 'resprate',\n",
       "       'o2sat', 'sbp', 'dbp', 'pain', 'acuity', 'chiefcomplaint', 'anchor_age',\n",
       "       'anchor_year', 'anchor_year_group', 'gender', 'age_on_adm', 'stay_id-2',\n",
       "       'arrival_transport', 'disposition', 'gender-2', 'intime', 'outtime',\n",
       "       'los'],\n",
       "      dtype='object')"
      ]
     },
     "execution_count": 3,
     "metadata": {},
     "output_type": "execute_result"
    }
   ],
   "source": [
    "df.columns"
   ]
  },
  {
   "cell_type": "code",
   "execution_count": 4,
   "metadata": {},
   "outputs": [
    {
     "data": {
      "text/plain": [
       "(425087, 23)"
      ]
     },
     "execution_count": 4,
     "metadata": {},
     "output_type": "execute_result"
    }
   ],
   "source": [
    "df.shape"
   ]
  },
  {
   "cell_type": "code",
   "execution_count": 13,
   "metadata": {},
   "outputs": [],
   "source": [
    "vparams_df = df[\n",
    "    [\"temperature\", \"heartrate\", \"resprate\", \"o2sat\", \"sbp\", \"dbp\", \"age_on_adm\"]\n",
    "]"
   ]
  },
  {
   "cell_type": "code",
   "execution_count": 14,
   "metadata": {},
   "outputs": [],
   "source": [
    "col_names_to_real_names = {\n",
    "    \"temperature\": \"Temperature\",\n",
    "    \"heartrate\": \"Heart rate\",\n",
    "    \"resprate\": \"Respiratory rate\",\n",
    "    \"o2sat\": \"Oxygen saturation\",\n",
    "    \"sbp\": \"Systolic blood pressure\",\n",
    "    \"dbp\": \"Diastolic blood pressure\",\n",
    "    \"age_on_adm\": \"Age\",\n",
    "}"
   ]
  },
  {
   "cell_type": "code",
   "execution_count": null,
   "metadata": {},
   "outputs": [],
   "source": [
    "fig, (ax, ax2) = plt.subplots(2, 1, figsize=(8, 10))\n",
    "\n",
    "# Plot all the data in a single plot\n",
    "sns.boxplot(data=vparams_df, ax=ax)\n",
    "ax.set_yscale(\"log\")\n",
    "\n",
    "# Create a copy of the DataFrame for the trimmed data\n",
    "trimmed_df = vparams_df.copy()\n",
    "\n",
    "# Remove upper and lower 2% of the data for each column\n",
    "for col in vparams_df.columns:\n",
    "    lower_bound = vparams_df[col].quantile(0.02)\n",
    "    upper_bound = vparams_df[col].quantile(0.98)\n",
    "    trimmed_df = trimmed_df[\n",
    "        (trimmed_df[col] > lower_bound) & (trimmed_df[col] < upper_bound)\n",
    "    ]\n",
    "\n",
    "# plot the trimmed data with ylim set to fit the data\n",
    "sns.boxplot(data=trimmed_df, ax=ax2)\n",
    "ax2.set_ylim(0, 200)\n",
    "\n",
    "# set axis of second plot to\n",
    "plt.tight_layout()\n",
    "plt.show()"
   ]
  },
  {
   "cell_type": "code",
   "execution_count": 26,
   "metadata": {},
   "outputs": [],
   "source": [
    "def make_three_plots(x: pd.Series, name: str):\n",
    "    raw_series = x\n",
    "    filtered_series = x[(x >= x.quantile(0.02)) & (x <= x.quantile(0.98))]\n",
    "\n",
    "    # start multiplot\n",
    "    fig, (ax1, ax2) = plt.subplots(1, 2, figsize=(12, 8))\n",
    "    fig.suptitle(f\"Boxplot distribution of feature: {name}\")\n",
    "    sns.boxplot(ax=ax1, y=raw_series, log_scale=True)\n",
    "    sns.boxplot(ax=ax2, y=filtered_series)\n",
    "\n",
    "    fig.savefig(\n",
    "        f\"../graphs/{''.join(name.split(' '))}_box_dist.png\", format=\"png\", dpi=1200\n",
    "    )"
   ]
  },
  {
   "cell_type": "code",
   "execution_count": 64,
   "metadata": {},
   "outputs": [],
   "source": [
    "def analyze_series(series: pd.Series):\n",
    "    # Calculate mean and 95% CI\n",
    "    series = series.dropna()\n",
    "    mean = series.mean()\n",
    "    sd = series.std()\n",
    "    confidence = 0.95\n",
    "    ci = stats.t.interval(\n",
    "        confidence=confidence, df=len(series) - 1, loc=mean, scale=stats.sem(series)\n",
    "    )\n",
    "\n",
    "    # Calculate quartiles\n",
    "    quartiles = series.quantile([0.25, 0.5, 0.75])\n",
    "\n",
    "    # Print results\n",
    "    print(f\"Mean: {mean:.2f} (95% CI: {ci[0]:.2f} to {ci[1]:.2f})\")\n",
    "    print(f\"Standard Deviation: {sd}\")\n",
    "    print(\"\\nQuartiles:\")\n",
    "    print(f\"25th percentile (Q1): {quartiles[0.25]:.2f}\")\n",
    "    print(f\"50th percentile (Median): {quartiles[0.5]:.2f}\")\n",
    "    print(f\"75th percentile (Q3): {quartiles[0.75]:.2f}\")"
   ]
  },
  {
   "cell_type": "code",
   "execution_count": null,
   "metadata": {},
   "outputs": [],
   "source": [
    "for x, y in col_names_to_real_names.items():\n",
    "    make_three_plots(vparams_df[x], y)"
   ]
  },
  {
   "cell_type": "code",
   "execution_count": null,
   "metadata": {},
   "outputs": [],
   "source": [
    "for x in col_names_to_real_names:\n",
    "    print(x)\n",
    "    analyze_series(vparams_df[x])\n",
    "    print(\"\\n\")"
   ]
  },
  {
   "cell_type": "code",
   "execution_count": 51,
   "metadata": {},
   "outputs": [],
   "source": [
    "catcol_to_real_names = {\"pain\": \"Pain scale\", \"acuity\": \"Acuity\", \"gender\": \"Gender\"}"
   ]
  },
  {
   "cell_type": "code",
   "execution_count": 52,
   "metadata": {},
   "outputs": [],
   "source": [
    "cat_frame = df[[x for x in catcol_to_real_names.keys()]]"
   ]
  },
  {
   "cell_type": "code",
   "execution_count": null,
   "metadata": {},
   "outputs": [],
   "source": [
    "cat_frame[\"pain\"] = np.where(\n",
    "    cat_frame[\"pain\"].str.isdigit(), cat_frame[\"pain\"], \"non-numeric\"\n",
    ")\n",
    "\n",
    "cat_frame[\"pain\"] = np.where(\n",
    "    cat_frame[]\n",
    ")"
   ]
  },
  {
   "cell_type": "code",
   "execution_count": 70,
   "metadata": {},
   "outputs": [],
   "source": [
    "def make_cat_plots(x: pd.Series, name: str):\n",
    "    sns.countplot(x=x)\n",
    "    plt.show()"
   ]
  },
  {
   "cell_type": "code",
   "execution_count": null,
   "metadata": {},
   "outputs": [],
   "source": [
    "for x in catcol_to_real_names:\n",
    "    make_cat_plots(cat_frame[x], x)"
   ]
  },
  {
   "cell_type": "code",
   "execution_count": 61,
   "metadata": {},
   "outputs": [],
   "source": [
    "def make_histplot(x: pd.Series, name: str):\n",
    "    sns.histplot(x=x)\n",
    "    plt.show()"
   ]
  },
  {
   "cell_type": "code",
   "execution_count": 62,
   "metadata": {},
   "outputs": [],
   "source": [
    "hist_frame = df[[\"age_on_adm\", \"los\"]]"
   ]
  },
  {
   "cell_type": "code",
   "execution_count": null,
   "metadata": {},
   "outputs": [],
   "source": [
    "for sname, s in hist_frame.items():\n",
    "    print(sname)\n",
    "    analyze_series(s)\n",
    "    make_histplot(s, sname)"
   ]
  },
  {
   "cell_type": "code",
   "execution_count": null,
   "metadata": {},
   "outputs": [],
   "source": [
    "df.arrival_transport.value_counts()"
   ]
  }
 ],
 "metadata": {
  "kernelspec": {
   "display_name": "ed-los-nlp-llm-thesis-UneA4U57-py3.10",
   "language": "python",
   "name": "python3"
  },
  "language_info": {
   "codemirror_mode": {
    "name": "ipython",
    "version": 3
   },
   "file_extension": ".py",
   "mimetype": "text/x-python",
   "name": "python",
   "nbconvert_exporter": "python",
   "pygments_lexer": "ipython3",
   "version": "3.10.12"
  }
 },
 "nbformat": 4,
 "nbformat_minor": 2
}

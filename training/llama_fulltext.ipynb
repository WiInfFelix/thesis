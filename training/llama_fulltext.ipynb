{
 "cells": [
  {
   "cell_type": "code",
   "execution_count": 75,
   "metadata": {},
   "outputs": [],
   "source": [
    "import pandas as pd\n",
    "import numpy as np\n",
    "from catboost import CatBoostRegressor\n",
    "import graph_utils\n",
    "\n",
    "from sklearn.model_selection import train_test_split\n",
    "from sklearn import metrics"
   ]
  },
  {
   "cell_type": "code",
   "execution_count": 76,
   "metadata": {},
   "outputs": [
    {
     "name": "stderr",
     "output_type": "stream",
     "text": [
      "/tmp/ipykernel_421714/2153703650.py:1: DtypeWarning:\n",
      "\n",
      "Columns (23) have mixed types. Specify dtype option on import or set low_memory=False.\n",
      "\n"
     ]
    }
   ],
   "source": [
    "llama_full = pd.read_csv(\"../processed_data/llama31_full.csv\")\n",
    "\n",
    "edstays = pd.read_csv(\"../raw_data/edstay_encounters.csv\")"
   ]
  },
  {
   "cell_type": "code",
   "execution_count": 77,
   "metadata": {},
   "outputs": [],
   "source": [
    "llama_full[\"los\"] = edstays[\"los\"]"
   ]
  },
  {
   "cell_type": "code",
   "execution_count": 78,
   "metadata": {},
   "outputs": [
    {
     "data": {
      "text/plain": [
       "(49791, 24)"
      ]
     },
     "execution_count": 78,
     "metadata": {},
     "output_type": "execute_result"
    }
   ],
   "source": [
    "llama_full = llama_full.dropna(subset=[\"llm_info\"])\n",
    "llama_full.shape"
   ]
  },
  {
   "cell_type": "code",
   "execution_count": 79,
   "metadata": {},
   "outputs": [
    {
     "data": {
      "text/plain": [
       "Index(['subject_id', 'stay_id', 'temperature', 'heartrate', 'resprate',\n",
       "       'o2sat', 'sbp', 'dbp', 'pain', 'acuity', 'chiefcomplaint', 'anchor_age',\n",
       "       'anchor_year', 'anchor_year_group', 'gender', 'age_on_adm', 'stay_id-2',\n",
       "       'arrival_transport', 'disposition', 'gender-2', 'intime', 'outtime',\n",
       "       'los', 'llm_info'],\n",
       "      dtype='object')"
      ]
     },
     "execution_count": 79,
     "metadata": {},
     "output_type": "execute_result"
    }
   ],
   "source": [
    "llama_full.columns"
   ]
  },
  {
   "cell_type": "code",
   "execution_count": 80,
   "metadata": {},
   "outputs": [],
   "source": [
    "train_columns = [\n",
    "    \"temperature\",\n",
    "    \"heartrate\",\n",
    "    \"o2sat\",\n",
    "    \"sbp\",\n",
    "    \"dbp\",\n",
    "    \"resprate\",\n",
    "    \"pain\",\n",
    "    \"acuity\",\n",
    "    \"age_on_adm\",\n",
    "    \"gender\",\n",
    "    \"arrival_transport\",\n",
    "    \"llm_info\",\n",
    "]\n",
    "feature_column = \"los\""
   ]
  },
  {
   "cell_type": "code",
   "execution_count": 81,
   "metadata": {},
   "outputs": [],
   "source": [
    "llama_train = llama_full[train_columns + [feature_column]]"
   ]
  },
  {
   "cell_type": "code",
   "execution_count": 82,
   "metadata": {},
   "outputs": [
    {
     "name": "stderr",
     "output_type": "stream",
     "text": [
      "/tmp/ipykernel_421714/1262281045.py:4: SettingWithCopyWarning:\n",
      "\n",
      "\n",
      "A value is trying to be set on a copy of a slice from a DataFrame.\n",
      "Try using .loc[row_indexer,col_indexer] = value instead\n",
      "\n",
      "See the caveats in the documentation: https://pandas.pydata.org/pandas-docs/stable/user_guide/indexing.html#returning-a-view-versus-a-copy\n",
      "\n",
      "/tmp/ipykernel_421714/1262281045.py:7: SettingWithCopyWarning:\n",
      "\n",
      "\n",
      "A value is trying to be set on a copy of a slice from a DataFrame.\n",
      "Try using .loc[row_indexer,col_indexer] = value instead\n",
      "\n",
      "See the caveats in the documentation: https://pandas.pydata.org/pandas-docs/stable/user_guide/indexing.html#returning-a-view-versus-a-copy\n",
      "\n"
     ]
    }
   ],
   "source": [
    "category_cols = [\"pain\", \"acuity\", \"gender\", \"arrival_transport\"]\n",
    "\n",
    "# cast category columns to string\n",
    "llama_train[category_cols] = llama_train[category_cols].apply(\n",
    "    lambda col: col.astype(str)\n",
    ")\n",
    "\n",
    "# replace nan in category columns with 'missing'\n",
    "llama_train[category_cols] = llama_train[category_cols].fillna(\"missing\")"
   ]
  },
  {
   "cell_type": "code",
   "execution_count": 83,
   "metadata": {},
   "outputs": [],
   "source": [
    "X_llama = llama_train.drop(columns=[feature_column])\n",
    "y_llama = llama_train[feature_column]"
   ]
  },
  {
   "cell_type": "code",
   "execution_count": 84,
   "metadata": {},
   "outputs": [],
   "source": [
    "X_llama_train, X_llama_test, y_llama_train, y_llama_test = train_test_split(\n",
    "    X_llama, y_llama, test_size=0.2, random_state=42\n",
    ")\n",
    "X_llama_test, X_llama_val, y_llama_test, y_llama_val = train_test_split(\n",
    "    X_llama_test, y_llama_test, test_size=0.5, random_state=42\n",
    ")"
   ]
  },
  {
   "cell_type": "code",
   "execution_count": 85,
   "metadata": {},
   "outputs": [],
   "source": [
    "res_dict = {\"rmse\": [], \"mae\": [], \"r2\": []}"
   ]
  },
  {
   "cell_type": "code",
   "execution_count": 86,
   "metadata": {},
   "outputs": [
    {
     "name": "stdout",
     "output_type": "stream",
     "text": [
      "Learning rate set to 0.047966\n",
      "0:\tlearn: 392.6785754\ttest: 422.7721556\tbest: 422.7721556 (0)\ttotal: 39.3ms\tremaining: 6m 32s\n",
      "100:\tlearn: 371.9822951\ttest: 408.1025464\tbest: 408.1025464 (100)\ttotal: 3.54s\tremaining: 5m 47s\n",
      "200:\tlearn: 367.2086289\ttest: 407.2719546\tbest: 407.2719546 (200)\ttotal: 6.68s\tremaining: 5m 25s\n",
      "300:\tlearn: 362.2388972\ttest: 406.8708369\tbest: 406.8628456 (299)\ttotal: 9.6s\tremaining: 5m 9s\n",
      "400:\tlearn: 357.8784286\ttest: 406.8173899\tbest: 406.8173899 (400)\ttotal: 12.5s\tremaining: 4m 59s\n",
      "500:\tlearn: 353.5405497\ttest: 406.6263513\tbest: 406.6060446 (488)\ttotal: 15.4s\tremaining: 4m 52s\n",
      "600:\tlearn: 349.5741971\ttest: 406.6846108\tbest: 406.5962307 (533)\ttotal: 18.4s\tremaining: 4m 47s\n",
      "bestTest = 406.5962307\n",
      "bestIteration = 533\n",
      "Shrink model to first 534 iterations.\n",
      "Learning rate set to 0.047966\n",
      "0:\tlearn: 392.6785754\ttest: 422.7721556\tbest: 422.7721556 (0)\ttotal: 41.3ms\tremaining: 6m 53s\n",
      "100:\tlearn: 371.9822951\ttest: 408.1025464\tbest: 408.1025464 (100)\ttotal: 3.54s\tremaining: 5m 47s\n",
      "200:\tlearn: 367.2085764\ttest: 407.2719546\tbest: 407.2719546 (200)\ttotal: 6.63s\tremaining: 5m 23s\n",
      "300:\tlearn: 362.2388972\ttest: 406.8708369\tbest: 406.8628456 (299)\ttotal: 9.62s\tremaining: 5m 9s\n",
      "400:\tlearn: 357.8784286\ttest: 406.8173899\tbest: 406.8173899 (400)\ttotal: 12.5s\tremaining: 4m 59s\n",
      "500:\tlearn: 353.5406042\ttest: 406.6263671\tbest: 406.6060446 (488)\ttotal: 15.5s\tremaining: 4m 53s\n",
      "600:\tlearn: 349.5742155\ttest: 406.6846266\tbest: 406.5962307 (533)\ttotal: 18.4s\tremaining: 4m 48s\n",
      "bestTest = 406.5962307\n",
      "bestIteration = 533\n",
      "Shrink model to first 534 iterations.\n",
      "Learning rate set to 0.047966\n",
      "0:\tlearn: 392.6785754\ttest: 422.7721556\tbest: 422.7721556 (0)\ttotal: 39.5ms\tremaining: 6m 34s\n",
      "100:\tlearn: 371.9822951\ttest: 408.1025464\tbest: 408.1025464 (100)\ttotal: 3.58s\tremaining: 5m 50s\n",
      "200:\tlearn: 367.2086289\ttest: 407.2719546\tbest: 407.2719546 (200)\ttotal: 6.68s\tremaining: 5m 25s\n",
      "300:\tlearn: 362.2388972\ttest: 406.8708369\tbest: 406.8628456 (299)\ttotal: 9.66s\tremaining: 5m 11s\n",
      "400:\tlearn: 357.8784286\ttest: 406.8173899\tbest: 406.8173899 (400)\ttotal: 12.6s\tremaining: 5m 1s\n",
      "500:\tlearn: 353.5405497\ttest: 406.6263513\tbest: 406.6060446 (488)\ttotal: 15.7s\tremaining: 4m 57s\n",
      "600:\tlearn: 349.5741971\ttest: 406.6846108\tbest: 406.5962307 (533)\ttotal: 18.6s\tremaining: 4m 51s\n",
      "bestTest = 406.5962307\n",
      "bestIteration = 533\n",
      "Shrink model to first 534 iterations.\n",
      "Average RMSE: 343.3659215805137\n",
      "Average MAE: 214.10894983900707\n",
      "Average R2: 0.09553380114878134\n"
     ]
    }
   ],
   "source": [
    "for i in range(3):\n",
    "    model = CatBoostRegressor(\n",
    "        iterations=10000,\n",
    "        loss_function=\"RMSE\",\n",
    "        verbose=100,\n",
    "        early_stopping_rounds=100,\n",
    "        cat_features=category_cols,\n",
    "        text_features=[\"llm_info\"],\n",
    "        task_type=\"GPU\",\n",
    "    )\n",
    "\n",
    "    model.fit(X_llama_train, y_llama_train, eval_set=(X_llama_val, y_llama_val))\n",
    "\n",
    "    y_pred = model.predict(X_llama_test)\n",
    "\n",
    "    llama_test = X_llama_test.copy()\n",
    "    llama_test[\"los\"] = y_llama_test\n",
    "    llama_test[\"pred_los\"] = y_pred\n",
    "    llama_test.to_csv(f\"../predicted_data/llama31_preds_{i}.csv\", index=False)\n",
    "\n",
    "    rmse = np.sqrt(metrics.mean_squared_error(y_llama_test, y_pred))\n",
    "    mae = metrics.mean_absolute_error(y_llama_test, y_pred)\n",
    "    r2 = metrics.r2_score(y_llama_test, y_pred)\n",
    "\n",
    "    res_dict[\"rmse\"].append(rmse)\n",
    "    res_dict[\"mae\"].append(mae)\n",
    "    res_dict[\"r2\"].append(r2)\n",
    "\n",
    "print(\"Average RMSE:\", np.mean(res_dict[\"rmse\"]))\n",
    "print(\"Average MAE:\", np.mean(res_dict[\"mae\"]))\n",
    "print(\"Average R2:\", np.mean(res_dict[\"r2\"]))"
   ]
  },
  {
   "cell_type": "code",
   "execution_count": null,
   "metadata": {},
   "outputs": [],
   "source": [
    "graph_utils.plot_feature_importances(model, \"Llama-3.1 Generate Text\")"
   ]
  }
 ],
 "metadata": {
  "kernelspec": {
   "display_name": "ed-los-nlp-llm-thesis-UneA4U57-py3.10",
   "language": "python",
   "name": "python3"
  },
  "language_info": {
   "codemirror_mode": {
    "name": "ipython",
    "version": 3
   },
   "file_extension": ".py",
   "mimetype": "text/x-python",
   "name": "python",
   "nbconvert_exporter": "python",
   "pygments_lexer": "ipython3",
   "version": "3.10.12"
  }
 },
 "nbformat": 4,
 "nbformat_minor": 2
}

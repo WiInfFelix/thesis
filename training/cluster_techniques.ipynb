{
 "cells": [
  {
   "cell_type": "code",
   "execution_count": 38,
   "metadata": {},
   "outputs": [],
   "source": [
    "import pandas as pd\n",
    "import numpy as np\n",
    "import graph_utils as gu\n",
    "\n",
    "from sklearn.model_selection import train_test_split\n",
    "from sklearn import metrics\n",
    "from catboost import CatBoostRegressor"
   ]
  },
  {
   "cell_type": "code",
   "execution_count": 39,
   "metadata": {},
   "outputs": [],
   "source": [
    "lda_cluster_frame = pd.read_csv(\"../processed_data/lda_frame.csv\")\n",
    "sentence_t_frame = pd.read_csv(\n",
    "    \"../processed_data/sentence_transformer_clustered_cc.csv\"\n",
    ")\n",
    "word2vec = pd.read_csv(\"../processed_data/word2vec_frame_with_cluster.csv\")\n",
    "edstays = pd.read_csv(\"../raw_data/edstay_encounters.csv\")"
   ]
  },
  {
   "cell_type": "code",
   "execution_count": 40,
   "metadata": {},
   "outputs": [],
   "source": [
    "lda_edstays = edstays.copy()\n",
    "sentence_t_edstays = edstays.copy()\n",
    "w2v_edstays = edstays.copy()\n",
    "\n",
    "lda_edstays = pd.merge(\n",
    "    lda_edstays,\n",
    "    lda_cluster_frame[[\"chiefcomplaint\", \"cluster_100\", \"cluster_1000\"]],\n",
    "    on=\"chiefcomplaint\",\n",
    "    how=\"left\",\n",
    ")\n",
    "sentence_t_edstays = pd.merge(\n",
    "    sentence_t_edstays,\n",
    "    sentence_t_frame[[\"chiefcomplaint\", \"cluster\"]],\n",
    "    on=\"chiefcomplaint\",\n",
    "    how=\"left\",\n",
    ")\n",
    "w2v_edstays = pd.merge(\n",
    "    w2v_edstays,\n",
    "    word2vec[[\"chiefcomplaint\", \"cluster\"]],\n",
    "    on=\"chiefcomplaint\",\n",
    "    how=\"left\",\n",
    ")"
   ]
  },
  {
   "cell_type": "code",
   "execution_count": 41,
   "metadata": {},
   "outputs": [],
   "source": [
    "train_columns = [\n",
    "    \"temperature\",\n",
    "    \"heartrate\",\n",
    "    \"o2sat\",\n",
    "    \"sbp\",\n",
    "    \"dbp\",\n",
    "    \"resprate\",\n",
    "    \"pain\",\n",
    "    \"acuity\",\n",
    "    \"age_on_adm\",\n",
    "    \"gender\",\n",
    "    \"arrival_transport\",\n",
    "    \"cluster\",\n",
    "]\n",
    "train_columns_lda = [\n",
    "    \"temperature\",\n",
    "    \"heartrate\",\n",
    "    \"o2sat\",\n",
    "    \"sbp\",\n",
    "    \"dbp\",\n",
    "    \"resprate\",\n",
    "    \"pain\",\n",
    "    \"acuity\",\n",
    "    \"age_on_adm\",\n",
    "    \"gender\",\n",
    "    \"arrival_transport\",\n",
    "    \"cluster_100\",\n",
    "    \"cluster_1000\",\n",
    "]\n",
    "feature_column = \"los\""
   ]
  },
  {
   "cell_type": "code",
   "execution_count": 42,
   "metadata": {},
   "outputs": [],
   "source": [
    "filtered_lda_edstays = lda_edstays[train_columns_lda + [feature_column]]\n",
    "filtered_sentence_t_edstays = sentence_t_edstays[train_columns + [feature_column]]\n",
    "filtered_w2v_edstays = w2v_edstays[train_columns + [feature_column]]"
   ]
  },
  {
   "cell_type": "code",
   "execution_count": 43,
   "metadata": {},
   "outputs": [
    {
     "name": "stderr",
     "output_type": "stream",
     "text": [
      "/tmp/ipykernel_104089/3409969309.py:8: SettingWithCopyWarning: \n",
      "A value is trying to be set on a copy of a slice from a DataFrame.\n",
      "Try using .loc[row_indexer,col_indexer] = value instead\n",
      "\n",
      "See the caveats in the documentation: https://pandas.pydata.org/pandas-docs/stable/user_guide/indexing.html#returning-a-view-versus-a-copy\n",
      "  filtered_lda_edstays[category_cols_lda] = filtered_lda_edstays[category_cols_lda].apply(lambda col: col.astype(str))\n",
      "/tmp/ipykernel_104089/3409969309.py:9: SettingWithCopyWarning: \n",
      "A value is trying to be set on a copy of a slice from a DataFrame.\n",
      "Try using .loc[row_indexer,col_indexer] = value instead\n",
      "\n",
      "See the caveats in the documentation: https://pandas.pydata.org/pandas-docs/stable/user_guide/indexing.html#returning-a-view-versus-a-copy\n",
      "  filtered_lda_edstays[category_cols_lda] = filtered_lda_edstays[category_cols_lda].apply(lambda col: col.astype(str))\n",
      "/tmp/ipykernel_104089/3409969309.py:11: SettingWithCopyWarning: \n",
      "A value is trying to be set on a copy of a slice from a DataFrame.\n",
      "Try using .loc[row_indexer,col_indexer] = value instead\n",
      "\n",
      "See the caveats in the documentation: https://pandas.pydata.org/pandas-docs/stable/user_guide/indexing.html#returning-a-view-versus-a-copy\n",
      "  filtered_lda_edstays[category_cols_lda] = filtered_lda_edstays[category_cols_lda].fillna('missing')\n",
      "/tmp/ipykernel_104089/3409969309.py:12: SettingWithCopyWarning: \n",
      "A value is trying to be set on a copy of a slice from a DataFrame.\n",
      "Try using .loc[row_indexer,col_indexer] = value instead\n",
      "\n",
      "See the caveats in the documentation: https://pandas.pydata.org/pandas-docs/stable/user_guide/indexing.html#returning-a-view-versus-a-copy\n",
      "  filtered_lda_edstays[category_cols_lda] = filtered_lda_edstays[category_cols_lda].fillna('missing')\n",
      "/tmp/ipykernel_104089/3409969309.py:14: SettingWithCopyWarning: \n",
      "A value is trying to be set on a copy of a slice from a DataFrame.\n",
      "Try using .loc[row_indexer,col_indexer] = value instead\n",
      "\n",
      "See the caveats in the documentation: https://pandas.pydata.org/pandas-docs/stable/user_guide/indexing.html#returning-a-view-versus-a-copy\n",
      "  filtered_sentence_t_edstays[category_cols] = filtered_sentence_t_edstays[category_cols].apply(lambda col: col.astype(str))\n",
      "/tmp/ipykernel_104089/3409969309.py:17: SettingWithCopyWarning: \n",
      "A value is trying to be set on a copy of a slice from a DataFrame.\n",
      "Try using .loc[row_indexer,col_indexer] = value instead\n",
      "\n",
      "See the caveats in the documentation: https://pandas.pydata.org/pandas-docs/stable/user_guide/indexing.html#returning-a-view-versus-a-copy\n",
      "  filtered_sentence_t_edstays[category_cols] = filtered_sentence_t_edstays[category_cols].fillna('missing')\n",
      "/tmp/ipykernel_104089/3409969309.py:19: SettingWithCopyWarning: \n",
      "A value is trying to be set on a copy of a slice from a DataFrame.\n",
      "Try using .loc[row_indexer,col_indexer] = value instead\n",
      "\n",
      "See the caveats in the documentation: https://pandas.pydata.org/pandas-docs/stable/user_guide/indexing.html#returning-a-view-versus-a-copy\n",
      "  filtered_w2v_edstays[category_cols] = filtered_w2v_edstays[category_cols].apply(lambda col: col.astype(str))\n",
      "/tmp/ipykernel_104089/3409969309.py:22: SettingWithCopyWarning: \n",
      "A value is trying to be set on a copy of a slice from a DataFrame.\n",
      "Try using .loc[row_indexer,col_indexer] = value instead\n",
      "\n",
      "See the caveats in the documentation: https://pandas.pydata.org/pandas-docs/stable/user_guide/indexing.html#returning-a-view-versus-a-copy\n",
      "  filtered_w2v_edstays[category_cols] = filtered_w2v_edstays[category_cols].fillna('missing')\n"
     ]
    }
   ],
   "source": [
    "category_cols = [\"pain\", \"acuity\", \"gender\", \"arrival_transport\", \"cluster\"]\n",
    "category_cols_lda = [\n",
    "    \"pain\",\n",
    "    \"acuity\",\n",
    "    \"gender\",\n",
    "    \"arrival_transport\",\n",
    "    \"cluster_100\",\n",
    "    \"cluster_1000\",\n",
    "]\n",
    "category_cols_lda_100 = [\"pain\", \"acuity\", \"gender\", \"arrival_transport\", \"cluster_100\"]\n",
    "category_cols_lda_1000 = [\n",
    "    \"pain\",\n",
    "    \"acuity\",\n",
    "    \"gender\",\n",
    "    \"arrival_transport\",\n",
    "    \"cluster_1000\",\n",
    "]\n",
    "\n",
    "\n",
    "# cast category columns to string\n",
    "filtered_lda_edstays[category_cols_lda] = filtered_lda_edstays[category_cols_lda].apply(\n",
    "    lambda col: col.astype(str)\n",
    ")\n",
    "filtered_lda_edstays[category_cols_lda] = filtered_lda_edstays[category_cols_lda].apply(\n",
    "    lambda col: col.astype(str)\n",
    ")\n",
    "# replace nan in category columns with 'missing'\n",
    "filtered_lda_edstays[category_cols_lda] = filtered_lda_edstays[\n",
    "    category_cols_lda\n",
    "].fillna(\"missing\")\n",
    "filtered_lda_edstays[category_cols_lda] = filtered_lda_edstays[\n",
    "    category_cols_lda\n",
    "].fillna(\"missing\")\n",
    "\n",
    "filtered_sentence_t_edstays[category_cols] = filtered_sentence_t_edstays[\n",
    "    category_cols\n",
    "].apply(lambda col: col.astype(str))\n",
    "\n",
    "# replace nan in category columns with 'missing'\n",
    "filtered_sentence_t_edstays[category_cols] = filtered_sentence_t_edstays[\n",
    "    category_cols\n",
    "].fillna(\"missing\")\n",
    "\n",
    "filtered_w2v_edstays[category_cols] = filtered_w2v_edstays[category_cols].apply(\n",
    "    lambda col: col.astype(str)\n",
    ")\n",
    "\n",
    "# replace nan in category columns with 'missing'\n",
    "filtered_w2v_edstays[category_cols] = filtered_w2v_edstays[category_cols].fillna(\n",
    "    \"missing\"\n",
    ")"
   ]
  },
  {
   "cell_type": "code",
   "execution_count": 44,
   "metadata": {},
   "outputs": [],
   "source": [
    "X_lda_train, X_lda_test, y_lda_train, y_lda_test = train_test_split(\n",
    "    filtered_lda_edstays[train_columns_lda].drop(columns=[\"cluster_1000\"]),\n",
    "    filtered_lda_edstays[feature_column],\n",
    "    test_size=0.2,\n",
    "    random_state=42,\n",
    ")\n",
    "X_lda_1000_train, X_lda_1000_test, y_lda_1000_train, y_lda_1000_test = train_test_split(\n",
    "    filtered_lda_edstays[train_columns_lda].drop(columns=[\"cluster_100\"]),\n",
    "    filtered_lda_edstays[feature_column],\n",
    "    test_size=0.2,\n",
    "    random_state=42,\n",
    ")\n",
    "X_sentence_t_train, X_sentence_t_test, y_sentence_t_train, y_sentence_t_test = (\n",
    "    train_test_split(\n",
    "        filtered_sentence_t_edstays[train_columns],\n",
    "        filtered_sentence_t_edstays[feature_column],\n",
    "        test_size=0.2,\n",
    "        random_state=42,\n",
    "    )\n",
    ")\n",
    "X_w2v_train, X_w2v_test, y_w2v_train, y_w2v_test = train_test_split(\n",
    "    filtered_w2v_edstays[train_columns],\n",
    "    filtered_w2v_edstays[feature_column],\n",
    "    test_size=0.2,\n",
    "    random_state=42,\n",
    ")\n",
    "\n",
    "X_lda_test, X_lda_val, y_lda_test, y_lda_val = train_test_split(\n",
    "    X_lda_test, y_lda_test, test_size=0.5, random_state=42\n",
    ")\n",
    "X_lda_1000_test, X_lda_1000_val, y_lda_1000_test, y_lda_1000_val = train_test_split(\n",
    "    X_lda_1000_test, y_lda_1000_test, test_size=0.5, random_state=42\n",
    ")\n",
    "X_sentence_t_test, X_sentence_t_val, y_sentence_t_test, y_sentence_t_val = (\n",
    "    train_test_split(\n",
    "        X_sentence_t_test, y_sentence_t_test, test_size=0.5, random_state=42\n",
    "    )\n",
    ")\n",
    "X_w2v_test, X_w2v_val, y_w2v_test, y_w2v_val = train_test_split(\n",
    "    X_w2v_test, y_w2v_test, test_size=0.5, random_state=42\n",
    ")"
   ]
  },
  {
   "cell_type": "code",
   "execution_count": 45,
   "metadata": {},
   "outputs": [],
   "source": [
    "lda_model = CatBoostRegressor(\n",
    "    iterations=10000,\n",
    "    loss_function=\"RMSE\",\n",
    "    cat_features=category_cols_lda_100,\n",
    "    task_type=\"GPU\",\n",
    "    early_stopping_rounds=100,\n",
    ")"
   ]
  },
  {
   "cell_type": "code",
   "execution_count": 46,
   "metadata": {},
   "outputs": [
    {
     "name": "stdout",
     "output_type": "stream",
     "text": [
      "Learning rate set to 0.060467\n",
      "0:\tlearn: 397.2575354\ttest: 396.4883735\tbest: 396.4883735 (0)\ttotal: 22.4ms\tremaining: 3m 43s\n",
      "100:\tlearn: 376.1610770\ttest: 375.2174037\tbest: 375.2174037 (100)\ttotal: 2.12s\tremaining: 3m 27s\n",
      "200:\tlearn: 374.7686470\ttest: 374.1836411\tbest: 374.1836411 (200)\ttotal: 4.21s\tremaining: 3m 25s\n",
      "300:\tlearn: 373.5993005\ttest: 373.5808233\tbest: 373.5808233 (300)\ttotal: 6.33s\tremaining: 3m 23s\n",
      "400:\tlearn: 372.6971686\ttest: 373.3073866\tbest: 373.3066283 (399)\ttotal: 8.52s\tremaining: 3m 23s\n",
      "500:\tlearn: 372.0334887\ttest: 373.0305206\tbest: 373.0289707 (498)\ttotal: 10.7s\tremaining: 3m 22s\n",
      "600:\tlearn: 371.3754984\ttest: 372.9509699\tbest: 372.9508085 (585)\ttotal: 12.8s\tremaining: 3m 20s\n",
      "700:\tlearn: 370.6551563\ttest: 372.7106004\tbest: 372.7106004 (700)\ttotal: 15s\tremaining: 3m 19s\n",
      "800:\tlearn: 369.8327421\ttest: 372.6250340\tbest: 372.6250340 (800)\ttotal: 17.2s\tremaining: 3m 17s\n",
      "900:\tlearn: 369.2632802\ttest: 372.5360209\tbest: 372.5349701 (874)\ttotal: 19.4s\tremaining: 3m 16s\n",
      "1000:\tlearn: 368.7056629\ttest: 372.4306712\tbest: 372.4300891 (995)\ttotal: 21.6s\tremaining: 3m 14s\n",
      "1100:\tlearn: 368.2142645\ttest: 372.3779528\tbest: 372.3779528 (1100)\ttotal: 23.8s\tremaining: 3m 12s\n",
      "1200:\tlearn: 367.5306102\ttest: 372.3505557\tbest: 372.3398163 (1173)\ttotal: 26.1s\tremaining: 3m 11s\n",
      "1300:\tlearn: 367.0158154\ttest: 372.2817468\tbest: 372.2800806 (1294)\ttotal: 28.3s\tremaining: 3m 8s\n",
      "1400:\tlearn: 366.5464355\ttest: 372.2096407\tbest: 372.2021980 (1384)\ttotal: 30.5s\tremaining: 3m 7s\n",
      "1500:\tlearn: 366.0515626\ttest: 372.2082816\tbest: 372.1883476 (1451)\ttotal: 32.7s\tremaining: 3m 5s\n",
      "bestTest = 372.1883476\n",
      "bestIteration = 1451\n",
      "Shrink model to first 1452 iterations.\n"
     ]
    },
    {
     "data": {
      "text/plain": [
       "<catboost.core.CatBoostRegressor at 0x7efd3b59df30>"
      ]
     },
     "execution_count": 46,
     "metadata": {},
     "output_type": "execute_result"
    }
   ],
   "source": [
    "lda_model.fit(\n",
    "    X_lda_train,\n",
    "    y_lda_train,\n",
    "    eval_set=(X_lda_val, y_lda_val),\n",
    "    verbose=100,\n",
    "    use_best_model=True,\n",
    ")"
   ]
  },
  {
   "cell_type": "code",
   "execution_count": 47,
   "metadata": {},
   "outputs": [],
   "source": [
    "y_lda_pred = lda_model.predict(X_lda_test)"
   ]
  },
  {
   "cell_type": "code",
   "execution_count": 48,
   "metadata": {},
   "outputs": [
    {
     "name": "stdout",
     "output_type": "stream",
     "text": [
      "RMSE: 359.697138903659\n",
      "MAE: 217.31330122453272\n",
      "R2: 0.12247431106985907\n"
     ]
    }
   ],
   "source": [
    "rmse = metrics.root_mean_squared_error(y_lda_test, y_lda_pred)\n",
    "print(f\"RMSE: {rmse}\")\n",
    "mae = metrics.mean_absolute_error(y_lda_test, y_lda_pred)\n",
    "print(f\"MAE: {mae}\")\n",
    "r2 = metrics.r2_score(y_lda_test, y_lda_pred)\n",
    "print(f\"R2: {r2}\")"
   ]
  },
  {
   "cell_type": "code",
   "execution_count": 49,
   "metadata": {},
   "outputs": [],
   "source": [
    "lda_1000_model = CatBoostRegressor(\n",
    "    iterations=10000,\n",
    "    loss_function=\"RMSE\",\n",
    "    cat_features=category_cols_lda_1000,\n",
    "    task_type=\"GPU\",\n",
    "    early_stopping_rounds=100,\n",
    ")"
   ]
  },
  {
   "cell_type": "code",
   "execution_count": 50,
   "metadata": {},
   "outputs": [
    {
     "name": "stdout",
     "output_type": "stream",
     "text": [
      "Learning rate set to 0.060467\n",
      "0:\tlearn: 397.6286687\ttest: 396.8653822\tbest: 396.8653822 (0)\ttotal: 18.5ms\tremaining: 3m 4s\n",
      "100:\tlearn: 381.0748619\ttest: 380.7832047\tbest: 380.7832047 (100)\ttotal: 1.99s\tremaining: 3m 15s\n",
      "200:\tlearn: 379.9314878\ttest: 380.3815179\tbest: 380.3815179 (200)\ttotal: 4.23s\tremaining: 3m 26s\n",
      "300:\tlearn: 379.1267503\ttest: 380.1987077\tbest: 380.1962842 (295)\ttotal: 6.33s\tremaining: 3m 23s\n",
      "400:\tlearn: 378.0041541\ttest: 380.1587419\tbest: 380.1254101 (383)\ttotal: 8.37s\tremaining: 3m 20s\n",
      "bestTest = 380.1254101\n",
      "bestIteration = 383\n",
      "Shrink model to first 384 iterations.\n"
     ]
    },
    {
     "data": {
      "text/plain": [
       "<catboost.core.CatBoostRegressor at 0x7efd27d6eb30>"
      ]
     },
     "execution_count": 50,
     "metadata": {},
     "output_type": "execute_result"
    }
   ],
   "source": [
    "lda_1000_model.fit(\n",
    "    X_lda_1000_train,\n",
    "    y_lda_1000_train,\n",
    "    eval_set=(X_lda_1000_val, y_lda_1000_val),\n",
    "    verbose=100,\n",
    "    use_best_model=True,\n",
    ")"
   ]
  },
  {
   "cell_type": "code",
   "execution_count": 51,
   "metadata": {},
   "outputs": [],
   "source": [
    "y_lda_1000_pred = lda_1000_model.predict(X_lda_1000_test)"
   ]
  },
  {
   "cell_type": "code",
   "execution_count": 52,
   "metadata": {},
   "outputs": [
    {
     "name": "stdout",
     "output_type": "stream",
     "text": [
      "RMSE: 366.850306123096\n",
      "MAE: 223.98972043792276\n",
      "R2: 0.08722519508507298\n"
     ]
    }
   ],
   "source": [
    "rmse = metrics.root_mean_squared_error(y_lda_1000_test, y_lda_1000_pred)\n",
    "print(f\"RMSE: {rmse}\")\n",
    "mae = metrics.mean_absolute_error(y_lda_1000_test, y_lda_1000_pred)\n",
    "print(f\"MAE: {mae}\")\n",
    "r2 = metrics.r2_score(y_lda_1000_test, y_lda_1000_pred)\n",
    "print(f\"R2: {r2}\")"
   ]
  },
  {
   "cell_type": "code",
   "execution_count": 53,
   "metadata": {},
   "outputs": [],
   "source": [
    "sentence_t_model = CatBoostRegressor(\n",
    "    iterations=10000,\n",
    "    loss_function=\"RMSE\",\n",
    "    cat_features=category_cols,\n",
    "    task_type=\"GPU\",\n",
    "    early_stopping_rounds=100,\n",
    ")"
   ]
  },
  {
   "cell_type": "code",
   "execution_count": 54,
   "metadata": {},
   "outputs": [
    {
     "name": "stdout",
     "output_type": "stream",
     "text": [
      "Learning rate set to 0.060467\n",
      "0:\tlearn: 396.9747214\ttest: 396.1413661\tbest: 396.1413661 (0)\ttotal: 18.8ms\tremaining: 3m 8s\n",
      "100:\tlearn: 373.3880405\ttest: 371.6725714\tbest: 371.6725714 (100)\ttotal: 2.08s\tremaining: 3m 23s\n",
      "200:\tlearn: 371.8375030\ttest: 370.8461362\tbest: 370.8461362 (200)\ttotal: 4.28s\tremaining: 3m 28s\n",
      "300:\tlearn: 370.7336571\ttest: 370.4351697\tbest: 370.4351697 (300)\ttotal: 6.41s\tremaining: 3m 26s\n",
      "400:\tlearn: 369.4116785\ttest: 370.3041945\tbest: 370.2883540 (382)\ttotal: 8.61s\tremaining: 3m 26s\n",
      "500:\tlearn: 368.5788430\ttest: 370.0731229\tbest: 370.0719837 (498)\ttotal: 10.9s\tremaining: 3m 26s\n",
      "600:\tlearn: 367.8936891\ttest: 369.9159723\tbest: 369.9120487 (597)\ttotal: 13.1s\tremaining: 3m 25s\n",
      "700:\tlearn: 367.1936606\ttest: 369.8415323\tbest: 369.8412718 (689)\ttotal: 15.4s\tremaining: 3m 23s\n",
      "800:\tlearn: 366.5782916\ttest: 369.8235388\tbest: 369.8167157 (757)\ttotal: 17.6s\tremaining: 3m 21s\n",
      "bestTest = 369.8167157\n",
      "bestIteration = 757\n",
      "Shrink model to first 758 iterations.\n"
     ]
    },
    {
     "data": {
      "text/plain": [
       "<catboost.core.CatBoostRegressor at 0x7efd2774b4f0>"
      ]
     },
     "execution_count": 54,
     "metadata": {},
     "output_type": "execute_result"
    }
   ],
   "source": [
    "sentence_t_model.fit(\n",
    "    X_sentence_t_train,\n",
    "    y_sentence_t_train,\n",
    "    eval_set=(X_sentence_t_val, y_sentence_t_val),\n",
    "    verbose=100,\n",
    "    use_best_model=True,\n",
    ")"
   ]
  },
  {
   "cell_type": "code",
   "execution_count": 55,
   "metadata": {},
   "outputs": [],
   "source": [
    "y_sentence_t_pred = sentence_t_model.predict(X_sentence_t_test)"
   ]
  },
  {
   "cell_type": "code",
   "execution_count": 56,
   "metadata": {},
   "outputs": [
    {
     "name": "stdout",
     "output_type": "stream",
     "text": [
      "RMSE: 357.5547861954179\n",
      "MAE: 215.54587416911997\n",
      "R2: 0.1328962510479379\n"
     ]
    }
   ],
   "source": [
    "rmse = metrics.root_mean_squared_error(y_sentence_t_test, y_sentence_t_pred)\n",
    "print(f\"RMSE: {rmse}\")\n",
    "mae = metrics.mean_absolute_error(y_sentence_t_test, y_sentence_t_pred)\n",
    "print(f\"MAE: {mae}\")\n",
    "r2 = metrics.r2_score(y_sentence_t_test, y_sentence_t_pred)\n",
    "print(f\"R2: {r2}\")"
   ]
  },
  {
   "cell_type": "code",
   "execution_count": 57,
   "metadata": {},
   "outputs": [],
   "source": [
    "w2v_model = CatBoostRegressor(\n",
    "    iterations=10000,\n",
    "    loss_function=\"RMSE\",\n",
    "    cat_features=category_cols,\n",
    "    task_type=\"GPU\",\n",
    "    early_stopping_rounds=100,\n",
    ")"
   ]
  },
  {
   "cell_type": "code",
   "execution_count": 58,
   "metadata": {},
   "outputs": [
    {
     "name": "stdout",
     "output_type": "stream",
     "text": [
      "Learning rate set to 0.060467\n",
      "0:\tlearn: 397.1169649\ttest: 396.3389010\tbest: 396.3389010 (0)\ttotal: 17.6ms\tremaining: 2m 55s\n",
      "100:\tlearn: 374.0290784\ttest: 373.4730271\tbest: 373.4730271 (100)\ttotal: 2.14s\tremaining: 3m 29s\n",
      "200:\tlearn: 372.5750372\ttest: 372.4730831\tbest: 372.4730831 (200)\ttotal: 4.3s\tremaining: 3m 29s\n",
      "300:\tlearn: 371.5086421\ttest: 372.1461946\tbest: 372.1461946 (300)\ttotal: 6.5s\tremaining: 3m 29s\n",
      "400:\tlearn: 370.4187901\ttest: 371.8171399\tbest: 371.8143864 (394)\ttotal: 8.71s\tremaining: 3m 28s\n",
      "500:\tlearn: 369.7133947\ttest: 371.5847077\tbest: 371.5834111 (499)\ttotal: 11.1s\tremaining: 3m 30s\n",
      "600:\tlearn: 369.0973807\ttest: 371.4715335\tbest: 371.4715335 (600)\ttotal: 13.4s\tremaining: 3m 30s\n",
      "700:\tlearn: 368.2658296\ttest: 371.3800873\tbest: 371.3580006 (698)\ttotal: 15.7s\tremaining: 3m 28s\n",
      "800:\tlearn: 367.4903479\ttest: 371.2965823\tbest: 371.2965823 (800)\ttotal: 18.4s\tremaining: 3m 31s\n",
      "900:\tlearn: 367.0294837\ttest: 371.2400692\tbest: 371.2373114 (889)\ttotal: 20.8s\tremaining: 3m 29s\n",
      "1000:\tlearn: 366.4670049\ttest: 371.2002745\tbest: 371.1758732 (966)\ttotal: 23.2s\tremaining: 3m 28s\n",
      "1100:\tlearn: 366.0828531\ttest: 371.1530118\tbest: 371.1414588 (1083)\ttotal: 25.8s\tremaining: 3m 28s\n",
      "1200:\tlearn: 365.6284174\ttest: 371.1230577\tbest: 371.1183518 (1195)\ttotal: 28.2s\tremaining: 3m 26s\n",
      "1300:\tlearn: 365.1745542\ttest: 371.0819035\tbest: 371.0819035 (1300)\ttotal: 30.6s\tremaining: 3m 24s\n",
      "1400:\tlearn: 364.7023587\ttest: 371.1183518\tbest: 371.0791446 (1326)\ttotal: 32.8s\tremaining: 3m 21s\n",
      "bestTest = 371.0791446\n",
      "bestIteration = 1326\n",
      "Shrink model to first 1327 iterations.\n"
     ]
    },
    {
     "data": {
      "text/plain": [
       "<catboost.core.CatBoostRegressor at 0x7efd1c466020>"
      ]
     },
     "execution_count": 58,
     "metadata": {},
     "output_type": "execute_result"
    }
   ],
   "source": [
    "w2v_model.fit(\n",
    "    X_w2v_train,\n",
    "    y_w2v_train,\n",
    "    eval_set=(X_w2v_val, y_w2v_val),\n",
    "    verbose=100,\n",
    "    use_best_model=True,\n",
    ")"
   ]
  },
  {
   "cell_type": "code",
   "execution_count": 59,
   "metadata": {},
   "outputs": [],
   "source": [
    "y_w2v_pred = w2v_model.predict(X_w2v_test)"
   ]
  },
  {
   "cell_type": "code",
   "execution_count": 60,
   "metadata": {},
   "outputs": [
    {
     "name": "stdout",
     "output_type": "stream",
     "text": [
      "RMSE: 357.42932818623143\n",
      "MAE: 214.4905104153771\n",
      "R2: 0.13350463907217947\n"
     ]
    }
   ],
   "source": [
    "rmse = metrics.root_mean_squared_error(y_w2v_test, y_w2v_pred)\n",
    "print(f\"RMSE: {rmse}\")\n",
    "mae = metrics.mean_absolute_error(y_w2v_test, y_w2v_pred)\n",
    "print(f\"MAE: {mae}\")\n",
    "r2 = metrics.r2_score(y_w2v_test, y_w2v_pred)\n",
    "print(f\"R2: {r2}\")"
   ]
  },
  {
   "cell_type": "code",
   "execution_count": null,
   "metadata": {},
   "outputs": [],
   "source": [
    "gu.plot_feature_importances(lda_model, \"LDA\")"
   ]
  },
  {
   "cell_type": "code",
   "execution_count": null,
   "metadata": {},
   "outputs": [],
   "source": [
    "gu.plot_feature_importances(sentence_t_model, \"Sentence Transformer\")"
   ]
  },
  {
   "cell_type": "code",
   "execution_count": null,
   "metadata": {},
   "outputs": [],
   "source": [
    "gu.plot_feature_importances(w2v_model, \"Word2Vec\")"
   ]
  },
  {
   "cell_type": "code",
   "execution_count": null,
   "metadata": {},
   "outputs": [],
   "source": [
    "gu.plot_regression_results(y_lda_test, y_lda_pred, \"LDA\")"
   ]
  },
  {
   "cell_type": "code",
   "execution_count": null,
   "metadata": {},
   "outputs": [],
   "source": [
    "gu.plot_regression_results(y_sentence_t_test, y_sentence_t_pred, \"Sentence Transformer\")"
   ]
  },
  {
   "cell_type": "code",
   "execution_count": null,
   "metadata": {},
   "outputs": [],
   "source": [
    "gu.plot_regression_results(y_w2v_test, y_w2v_pred, \"Word2Vec\")"
   ]
  },
  {
   "cell_type": "code",
   "execution_count": null,
   "metadata": {},
   "outputs": [],
   "source": [
    "gu.plot_residuals(y_lda_test, y_lda_pred, \"LDA\")"
   ]
  },
  {
   "cell_type": "code",
   "execution_count": null,
   "metadata": {},
   "outputs": [],
   "source": [
    "gu.plot_residuals(y_sentence_t_test, y_sentence_t_pred, \"Sentence Transformer\")"
   ]
  },
  {
   "cell_type": "code",
   "execution_count": null,
   "metadata": {},
   "outputs": [],
   "source": [
    "gu.plot_residuals(y_w2v_test, y_w2v_pred, \"Word2Vec\")"
   ]
  }
 ],
 "metadata": {
  "kernelspec": {
   "display_name": "ed-los-nlp-llm-thesis-UneA4U57-py3.10",
   "language": "python",
   "name": "python3"
  },
  "language_info": {
   "codemirror_mode": {
    "name": "ipython",
    "version": 3
   },
   "file_extension": ".py",
   "mimetype": "text/x-python",
   "name": "python",
   "nbconvert_exporter": "python",
   "pygments_lexer": "ipython3",
   "version": "3.10.12"
  }
 },
 "nbformat": 4,
 "nbformat_minor": 2
}

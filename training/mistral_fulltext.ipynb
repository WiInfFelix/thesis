{
 "cells": [
  {
   "cell_type": "code",
   "execution_count": 110,
   "metadata": {},
   "outputs": [],
   "source": [
    "import pandas as pd\n",
    "import numpy as np\n",
    "from catboost import CatBoostRegressor\n",
    "import graph_utils\n",
    "\n",
    "from sklearn.model_selection import train_test_split\n",
    "from sklearn import metrics"
   ]
  },
  {
   "cell_type": "code",
   "execution_count": 111,
   "metadata": {},
   "outputs": [
    {
     "name": "stderr",
     "output_type": "stream",
     "text": [
      "/tmp/ipykernel_413904/3402968331.py:1: DtypeWarning:\n",
      "\n",
      "Columns (12) have mixed types. Specify dtype option on import or set low_memory=False.\n",
      "\n"
     ]
    }
   ],
   "source": [
    "mistral_full = pd.read_csv(\"../processed_data/mistral_full_data.csv\")\n",
    "\n",
    "edstays = pd.read_csv(\"../raw_data/edstay_encounters.csv\")"
   ]
  },
  {
   "cell_type": "code",
   "execution_count": 112,
   "metadata": {},
   "outputs": [],
   "source": [
    "mistral_full[\"los\"] = edstays[\"los\"]"
   ]
  },
  {
   "cell_type": "code",
   "execution_count": 113,
   "metadata": {},
   "outputs": [
    {
     "data": {
      "text/plain": [
       "(425087, 14)"
      ]
     },
     "execution_count": 113,
     "metadata": {},
     "output_type": "execute_result"
    }
   ],
   "source": [
    "mistral_full.shape"
   ]
  },
  {
   "cell_type": "code",
   "execution_count": 114,
   "metadata": {},
   "outputs": [],
   "source": [
    "# drop rows where llm_info is null\n",
    "mistral_full = mistral_full.dropna(subset=[\"llm_info\"])"
   ]
  },
  {
   "cell_type": "code",
   "execution_count": 115,
   "metadata": {},
   "outputs": [],
   "source": [
    "# keep 50000 rows for now\n",
    "mistral_full = mistral_full[:50000]\n",
    "\n",
    "# shuffle the data\n",
    "# mistral_full = mistral_full.sample(frac=1).reset_index(drop=True)"
   ]
  },
  {
   "cell_type": "code",
   "execution_count": 116,
   "metadata": {},
   "outputs": [],
   "source": [
    "train_columns = [\n",
    "    \"temperature\",\n",
    "    \"heartrate\",\n",
    "    \"o2sat\",\n",
    "    \"sbp\",\n",
    "    \"dbp\",\n",
    "    \"resprate\",\n",
    "    \"pain\",\n",
    "    \"acuity\",\n",
    "    \"age_on_adm\",\n",
    "    \"gender\",\n",
    "    \"arrival_transport\",\n",
    "    \"llm_info\",\n",
    "]\n",
    "feature_column = \"los\""
   ]
  },
  {
   "cell_type": "code",
   "execution_count": 117,
   "metadata": {},
   "outputs": [],
   "source": [
    "mistral_train = mistral_full[train_columns + [feature_column]]"
   ]
  },
  {
   "cell_type": "code",
   "execution_count": 118,
   "metadata": {},
   "outputs": [
    {
     "name": "stderr",
     "output_type": "stream",
     "text": [
      "/tmp/ipykernel_413904/91626825.py:4: SettingWithCopyWarning:\n",
      "\n",
      "\n",
      "A value is trying to be set on a copy of a slice from a DataFrame.\n",
      "Try using .loc[row_indexer,col_indexer] = value instead\n",
      "\n",
      "See the caveats in the documentation: https://pandas.pydata.org/pandas-docs/stable/user_guide/indexing.html#returning-a-view-versus-a-copy\n",
      "\n",
      "/tmp/ipykernel_413904/91626825.py:9: SettingWithCopyWarning:\n",
      "\n",
      "\n",
      "A value is trying to be set on a copy of a slice from a DataFrame.\n",
      "Try using .loc[row_indexer,col_indexer] = value instead\n",
      "\n",
      "See the caveats in the documentation: https://pandas.pydata.org/pandas-docs/stable/user_guide/indexing.html#returning-a-view-versus-a-copy\n",
      "\n"
     ]
    }
   ],
   "source": [
    "category_cols = [\"pain\", \"acuity\", \"gender\", \"arrival_transport\"]\n",
    "\n",
    "# cast category columns to string\n",
    "mistral_train[category_cols] = mistral_train[category_cols].apply(\n",
    "    lambda col: col.astype(str)\n",
    ")\n",
    "\n",
    "# replace nan in category columns with 'missing'\n",
    "mistral_train[category_cols] = mistral_train[category_cols].fillna(\"missing\")"
   ]
  },
  {
   "cell_type": "code",
   "execution_count": 119,
   "metadata": {},
   "outputs": [],
   "source": [
    "X_mistral = mistral_train.drop(columns=[feature_column])\n",
    "y_mistral = mistral_train[feature_column]"
   ]
  },
  {
   "cell_type": "code",
   "execution_count": 120,
   "metadata": {},
   "outputs": [],
   "source": [
    "X_mistral_train, X_mistral_test, y_mistral_train, y_mistral_test = train_test_split(\n",
    "    X_mistral, y_mistral, test_size=0.2, random_state=42\n",
    ")\n",
    "\n",
    "X_mistral_test, X_mistral_val, y_mistral_test, y_mistral_val = train_test_split(\n",
    "    X_mistral_test, y_mistral_test, test_size=0.5, random_state=42\n",
    ")"
   ]
  },
  {
   "cell_type": "code",
   "execution_count": 121,
   "metadata": {},
   "outputs": [],
   "source": [
    "# X_mistral_test.to_csv('../predicted_data/Xtest.csv', index=False)"
   ]
  },
  {
   "cell_type": "code",
   "execution_count": 122,
   "metadata": {},
   "outputs": [],
   "source": [
    "res_dict = {\"rmse\": [], \"mae\": [], \"r2\": []}"
   ]
  },
  {
   "cell_type": "code",
   "execution_count": 123,
   "metadata": {},
   "outputs": [
    {
     "name": "stdout",
     "output_type": "stream",
     "text": [
      "Learning rate set to 0.047988\n",
      "0:\tlearn: 397.3498448\ttest: 381.6673819\tbest: 381.6673819 (0)\ttotal: 41.3ms\tremaining: 6m 53s\n",
      "100:\tlearn: 371.9412943\ttest: 362.5027669\tbest: 362.5027669 (100)\ttotal: 3.34s\tremaining: 5m 27s\n",
      "200:\tlearn: 364.8887611\ttest: 361.5632725\tbest: 361.5632725 (200)\ttotal: 6.32s\tremaining: 5m 7s\n",
      "300:\tlearn: 357.7786578\ttest: 360.9602128\tbest: 360.8873686 (277)\ttotal: 9.34s\tremaining: 5m\n",
      "400:\tlearn: 352.1447339\ttest: 360.8907558\tbest: 360.8301007 (379)\ttotal: 12.2s\tremaining: 4m 51s\n",
      "500:\tlearn: 346.8183340\ttest: 360.6008852\tbest: 360.5895262 (499)\ttotal: 15s\tremaining: 4m 44s\n",
      "600:\tlearn: 342.5603363\ttest: 360.3045467\tbest: 360.2515388 (565)\ttotal: 17.8s\tremaining: 4m 38s\n",
      "bestTest = 360.2515388\n",
      "bestIteration = 565\n",
      "Shrink model to first 566 iterations.\n",
      "Learning rate set to 0.047988\n",
      "0:\tlearn: 397.3498448\ttest: 381.6673819\tbest: 381.6673819 (0)\ttotal: 40.5ms\tremaining: 6m 44s\n",
      "100:\tlearn: 371.9412943\ttest: 362.5027669\tbest: 362.5027669 (100)\ttotal: 3.3s\tremaining: 5m 23s\n",
      "200:\tlearn: 364.8888488\ttest: 361.5632725\tbest: 361.5632725 (200)\ttotal: 6.3s\tremaining: 5m 7s\n",
      "300:\tlearn: 357.7787652\ttest: 360.9602482\tbest: 360.8874040 (277)\ttotal: 9.13s\tremaining: 4m 54s\n",
      "400:\tlearn: 352.1448429\ttest: 360.8908090\tbest: 360.8301717 (379)\ttotal: 12s\tremaining: 4m 46s\n",
      "500:\tlearn: 346.8184632\ttest: 360.6009562\tbest: 360.5895972 (499)\ttotal: 14.8s\tremaining: 4m 40s\n",
      "600:\tlearn: 342.5604671\ttest: 360.3046178\tbest: 360.2516276 (565)\ttotal: 17.6s\tremaining: 4m 35s\n",
      "bestTest = 360.2516276\n",
      "bestIteration = 565\n",
      "Shrink model to first 566 iterations.\n",
      "Learning rate set to 0.047988\n",
      "0:\tlearn: 397.3498448\ttest: 381.6673819\tbest: 381.6673819 (0)\ttotal: 43.2ms\tremaining: 7m 12s\n",
      "100:\tlearn: 371.9412943\ttest: 362.5027669\tbest: 362.5027669 (100)\ttotal: 3.51s\tremaining: 5m 43s\n",
      "200:\tlearn: 364.8888313\ttest: 361.5632194\tbest: 361.5632194 (200)\ttotal: 6.5s\tremaining: 5m 16s\n",
      "300:\tlearn: 357.7788009\ttest: 360.9601773\tbest: 360.8873331 (277)\ttotal: 9.38s\tremaining: 5m 2s\n",
      "400:\tlearn: 352.2083747\ttest: 360.8640653\tbest: 360.8059955 (380)\ttotal: 12.2s\tremaining: 4m 52s\n",
      "500:\tlearn: 346.9580724\ttest: 360.5236370\tbest: 360.5122045 (499)\ttotal: 15.1s\tremaining: 4m 46s\n",
      "600:\tlearn: 342.7064423\ttest: 360.2244634\tbest: 360.1361876 (555)\ttotal: 18.1s\tremaining: 4m 43s\n",
      "700:\tlearn: 338.5325509\ttest: 360.2635480\tbest: 360.1061888 (647)\ttotal: 20.9s\tremaining: 4m 37s\n",
      "bestTest = 360.1061888\n",
      "bestIteration = 647\n",
      "Shrink model to first 648 iterations.\n",
      "Average RMSE:  342.4238157218886\n",
      "Average MAE:  214.56603465327655\n",
      "Average R2:  0.10535998733447356\n"
     ]
    }
   ],
   "source": [
    "# train and get predictions 3 times\n",
    "for i in range(3):\n",
    "    model = CatBoostRegressor(\n",
    "        iterations=10000,\n",
    "        loss_function=\"RMSE\",\n",
    "        verbose=100,\n",
    "        early_stopping_rounds=100,\n",
    "        cat_features=category_cols,\n",
    "        text_features=[\"llm_info\"],\n",
    "        task_type=\"GPU\",\n",
    "    )\n",
    "\n",
    "    model.fit(X_mistral_train, y_mistral_train, eval_set=(X_mistral_val, y_mistral_val))\n",
    "\n",
    "    y_pred = model.predict(X_mistral_test)\n",
    "\n",
    "    mistral_test = X_mistral_test.copy()\n",
    "    mistral_test[\"los\"] = y_mistral_test\n",
    "    mistral_test[\"pred\"] = y_pred\n",
    "    mistral_test.to_csv(f\"../predicted_data/mistralpreds{i}.csv\", index=False)\n",
    "\n",
    "    rmse = np.sqrt(metrics.mean_squared_error(y_mistral_test, y_pred))\n",
    "    mae = metrics.mean_absolute_error(y_mistral_test, y_pred)\n",
    "    r2 = metrics.r2_score(y_mistral_test, y_pred)\n",
    "\n",
    "    res_dict[\"rmse\"].append(rmse)\n",
    "    res_dict[\"mae\"].append(mae)\n",
    "    res_dict[\"r2\"].append(r2)\n",
    "\n",
    "\n",
    "# print average results\n",
    "print(\"Average RMSE: \", np.mean(res_dict[\"rmse\"]))\n",
    "print(\"Average MAE: \", np.mean(res_dict[\"mae\"]))\n",
    "print(\"Average R2: \", np.mean(res_dict[\"r2\"]))"
   ]
  },
  {
   "cell_type": "code",
   "execution_count": null,
   "metadata": {},
   "outputs": [],
   "source": [
    "graph_utils.plot_feature_importances(model, \"Mistral Generate\")"
   ]
  },
  {
   "cell_type": "code",
   "execution_count": null,
   "metadata": {},
   "outputs": [],
   "source": [
    "graph_utils.plot_regression_results(y_mistral_test, y_pred, \"Mistral\")"
   ]
  },
  {
   "cell_type": "code",
   "execution_count": null,
   "metadata": {},
   "outputs": [],
   "source": [
    "graph_utils.plot_residuals(y_mistral_test, y_pred, \"Mistral\")"
   ]
  }
 ],
 "metadata": {
  "kernelspec": {
   "display_name": "ed-los-nlp-llm-thesis-UneA4U57-py3.10",
   "language": "python",
   "name": "python3"
  },
  "language_info": {
   "codemirror_mode": {
    "name": "ipython",
    "version": 3
   },
   "file_extension": ".py",
   "mimetype": "text/x-python",
   "name": "python",
   "nbconvert_exporter": "python",
   "pygments_lexer": "ipython3",
   "version": "3.10.12"
  }
 },
 "nbformat": 4,
 "nbformat_minor": 2
}

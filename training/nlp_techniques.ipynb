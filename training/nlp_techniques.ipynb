{
 "cells": [
  {
   "cell_type": "code",
   "execution_count": 1,
   "metadata": {},
   "outputs": [],
   "source": [
    "import pandas as pd\n",
    "import numpy as np\n",
    "import graph_utils as gu\n",
    "\n",
    "from sklearn.model_selection import train_test_split\n",
    "from sklearn import metrics\n",
    "from catboost import CatBoostRegressor"
   ]
  },
  {
   "cell_type": "code",
   "execution_count": 2,
   "metadata": {},
   "outputs": [],
   "source": [
    "edstays_frame = pd.read_csv(\"../raw_data/edstay_encounters.csv\")"
   ]
  },
  {
   "cell_type": "code",
   "execution_count": 3,
   "metadata": {},
   "outputs": [],
   "source": [
    "train_columns = [\n",
    "    \"temperature\",\n",
    "    \"heartrate\",\n",
    "    \"o2sat\",\n",
    "    \"sbp\",\n",
    "    \"dbp\",\n",
    "    \"resprate\",\n",
    "    \"pain\",\n",
    "    \"acuity\",\n",
    "    \"age_on_adm\",\n",
    "    \"gender\",\n",
    "    \"arrival_transport\",\n",
    "    \"chiefcomplaint\",\n",
    "]\n",
    "feature_column = \"los\""
   ]
  },
  {
   "cell_type": "code",
   "execution_count": 4,
   "metadata": {},
   "outputs": [],
   "source": [
    "filtered_frame = edstays_frame[train_columns + [feature_column]]"
   ]
  },
  {
   "cell_type": "code",
   "execution_count": 5,
   "metadata": {},
   "outputs": [
    {
     "name": "stderr",
     "output_type": "stream",
     "text": [
      "/tmp/ipykernel_1157014/3181689944.py:4: SettingWithCopyWarning: \n",
      "A value is trying to be set on a copy of a slice from a DataFrame.\n",
      "Try using .loc[row_indexer,col_indexer] = value instead\n",
      "\n",
      "See the caveats in the documentation: https://pandas.pydata.org/pandas-docs/stable/user_guide/indexing.html#returning-a-view-versus-a-copy\n",
      "  filtered_frame[category_cols] = filtered_frame[category_cols].apply(lambda col: col.astype(str))\n",
      "/tmp/ipykernel_1157014/3181689944.py:7: SettingWithCopyWarning: \n",
      "A value is trying to be set on a copy of a slice from a DataFrame.\n",
      "Try using .loc[row_indexer,col_indexer] = value instead\n",
      "\n",
      "See the caveats in the documentation: https://pandas.pydata.org/pandas-docs/stable/user_guide/indexing.html#returning-a-view-versus-a-copy\n",
      "  filtered_frame[category_cols] = filtered_frame[category_cols].fillna('missing')\n"
     ]
    }
   ],
   "source": [
    "category_cols = [\"pain\", \"acuity\", \"gender\", \"arrival_transport\"]\n",
    "\n",
    "# cast category columns to string\n",
    "filtered_frame[category_cols] = filtered_frame[category_cols].apply(\n",
    "    lambda col: col.astype(str)\n",
    ")\n",
    "\n",
    "# replace nan in category columns with 'missing'\n",
    "filtered_frame[category_cols] = filtered_frame[category_cols].fillna(\"missing\")"
   ]
  },
  {
   "cell_type": "code",
   "execution_count": 6,
   "metadata": {},
   "outputs": [
    {
     "name": "stderr",
     "output_type": "stream",
     "text": [
      "/tmp/ipykernel_1157014/1524136742.py:2: SettingWithCopyWarning: \n",
      "A value is trying to be set on a copy of a slice from a DataFrame.\n",
      "Try using .loc[row_indexer,col_indexer] = value instead\n",
      "\n",
      "See the caveats in the documentation: https://pandas.pydata.org/pandas-docs/stable/user_guide/indexing.html#returning-a-view-versus-a-copy\n",
      "  filtered_frame['chiefcomplaint'] = filtered_frame['chiefcomplaint'].astype(str)\n",
      "/tmp/ipykernel_1157014/1524136742.py:5: SettingWithCopyWarning: \n",
      "A value is trying to be set on a copy of a slice from a DataFrame.\n",
      "Try using .loc[row_indexer,col_indexer] = value instead\n",
      "\n",
      "See the caveats in the documentation: https://pandas.pydata.org/pandas-docs/stable/user_guide/indexing.html#returning-a-view-versus-a-copy\n",
      "  filtered_frame['chiefcomplaint'] = filtered_frame['chiefcomplaint'].fillna('missing')\n"
     ]
    }
   ],
   "source": [
    "# cast chiefcomplaint to string\n",
    "filtered_frame[\"chiefcomplaint\"] = filtered_frame[\"chiefcomplaint\"].astype(str)\n",
    "\n",
    "# replace nan in chiefcomplaint with 'missing'\n",
    "filtered_frame[\"chiefcomplaint\"] = filtered_frame[\"chiefcomplaint\"].fillna(\"missing\")"
   ]
  },
  {
   "cell_type": "code",
   "execution_count": 7,
   "metadata": {},
   "outputs": [],
   "source": [
    "X_train, X_test, y_train, y_test = train_test_split(\n",
    "    filtered_frame[train_columns],\n",
    "    filtered_frame[feature_column],\n",
    "    test_size=0.2,\n",
    "    random_state=42,\n",
    ")\n",
    "X_test, X_val, y_test, y_val = train_test_split(\n",
    "    X_test, y_test, test_size=0.5, random_state=42\n",
    ")"
   ]
  },
  {
   "cell_type": "code",
   "execution_count": 8,
   "metadata": {},
   "outputs": [],
   "source": [
    "model = CatBoostRegressor(\n",
    "    iterations=10000,\n",
    "    early_stopping_rounds=100,\n",
    "    cat_features=category_cols,\n",
    "    text_features=[\"chiefcomplaint\"],\n",
    "    verbose=100,\n",
    "    task_type=\"GPU\",\n",
    "    devices=\"0:1\",\n",
    ")"
   ]
  },
  {
   "cell_type": "code",
   "execution_count": 9,
   "metadata": {},
   "outputs": [
    {
     "name": "stdout",
     "output_type": "stream",
     "text": [
      "Learning rate set to 0.060467\n",
      "0:\tlearn: 397.0406924\ttest: 396.2829045\tbest: 396.2829045 (0)\ttotal: 71.8ms\tremaining: 11m 57s\n",
      "100:\tlearn: 372.2676325\ttest: 372.8326863\tbest: 372.8326863 (100)\ttotal: 1.88s\tremaining: 3m 3s\n",
      "200:\tlearn: 368.5372409\ttest: 371.4693936\tbest: 371.4693936 (200)\ttotal: 3.44s\tremaining: 2m 47s\n",
      "300:\tlearn: 365.8630884\ttest: 371.4810174\tbest: 371.2755450 (214)\ttotal: 4.87s\tremaining: 2m 36s\n",
      "bestTest = 371.275545\n",
      "bestIteration = 214\n",
      "Shrink model to first 215 iterations.\n"
     ]
    },
    {
     "data": {
      "text/plain": [
       "<catboost.core.CatBoostRegressor at 0x7f1b9686b640>"
      ]
     },
     "execution_count": 9,
     "metadata": {},
     "output_type": "execute_result"
    }
   ],
   "source": [
    "model.fit(X_train, y_train, eval_set=(X_val, y_val), use_best_model=True)"
   ]
  },
  {
   "cell_type": "code",
   "execution_count": 10,
   "metadata": {},
   "outputs": [],
   "source": [
    "y_pred = model.predict(X_test)"
   ]
  },
  {
   "cell_type": "code",
   "execution_count": 11,
   "metadata": {},
   "outputs": [
    {
     "name": "stdout",
     "output_type": "stream",
     "text": [
      "RMSE: 357.015508891987\n",
      "MAE: 217.03941007917098\n",
      "R2: 0.13550987422809113\n"
     ]
    }
   ],
   "source": [
    "rmse = metrics.root_mean_squared_error(y_test, y_pred)\n",
    "print(f\"RMSE: {rmse}\")\n",
    "mae = metrics.mean_absolute_error(y_test, y_pred)\n",
    "print(f\"MAE: {mae}\")\n",
    "r2 = metrics.r2_score(y_test, y_pred)\n",
    "print(f\"R2: {r2}\")"
   ]
  },
  {
   "cell_type": "code",
   "execution_count": null,
   "metadata": {},
   "outputs": [],
   "source": [
    "gu.plot_feature_importances(model, \"Catboost NLP Techniqes\")"
   ]
  },
  {
   "cell_type": "code",
   "execution_count": null,
   "metadata": {},
   "outputs": [],
   "source": [
    "gu.plot_regression_results(y_test, y_pred, \"Catboost NLP Techniques\")"
   ]
  },
  {
   "cell_type": "code",
   "execution_count": null,
   "metadata": {},
   "outputs": [],
   "source": [
    "gu.plot_residuals(y_test, y_pred, \"Catboost NLP Techniques\")"
   ]
  }
 ],
 "metadata": {
  "kernelspec": {
   "display_name": "ed-los-nlp-llm-thesis-UneA4U57-py3.10",
   "language": "python",
   "name": "python3"
  },
  "language_info": {
   "codemirror_mode": {
    "name": "ipython",
    "version": 3
   },
   "file_extension": ".py",
   "mimetype": "text/x-python",
   "name": "python",
   "nbconvert_exporter": "python",
   "pygments_lexer": "ipython3",
   "version": "3.10.12"
  }
 },
 "nbformat": 4,
 "nbformat_minor": 2
}

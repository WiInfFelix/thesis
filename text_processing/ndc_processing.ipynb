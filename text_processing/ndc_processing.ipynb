{
 "cells": [
  {
   "cell_type": "code",
   "execution_count": 20,
   "metadata": {},
   "outputs": [],
   "source": [
    "import pandas as pd"
   ]
  },
  {
   "cell_type": "code",
   "execution_count": 21,
   "metadata": {},
   "outputs": [],
   "source": [
    "edstay_file = pd.read_csv('../raw_data/edstay_encounters.csv')\n",
    "medrecon_file = pd.read_csv('../raw_data/medrecon.csv')"
   ]
  },
  {
   "cell_type": "code",
   "execution_count": 22,
   "metadata": {},
   "outputs": [],
   "source": [
    "# get 200 most occuring ndcs\n",
    "ncds = medrecon_file['ndc'].value_counts().head(200).index.tolist()\n",
    "\n",
    "# convert ndc to \"other\" if not in top 200\n",
    "medrecon_file['ndc'] = medrecon_file['ndc'].apply(lambda x: x if x in ncds else 'other')"
   ]
  },
  {
   "cell_type": "code",
   "execution_count": 23,
   "metadata": {},
   "outputs": [],
   "source": [
    "# group ndc by stay_id, then put into a list\n",
    "ndcs = medrecon_file.groupby('stay_id')['ndc'].apply(list).reset_index()"
   ]
  },
  {
   "cell_type": "code",
   "execution_count": 24,
   "metadata": {},
   "outputs": [],
   "source": [
    "edstay_file = edstay_file.join(ndcs.set_index('stay_id'), on='stay_id')"
   ]
  },
  {
   "cell_type": "code",
   "execution_count": 25,
   "metadata": {},
   "outputs": [
    {
     "data": {
      "text/plain": [
       "31"
      ]
     },
     "execution_count": 25,
     "metadata": {},
     "output_type": "execute_result"
    }
   ],
   "source": [
    "# handle nan\n",
    "edstay_file['ndc'] = edstay_file['ndc'].apply(lambda x: x if type(x) == list else [])\n",
    "\n",
    "# remove duplicates in ndc lists\n",
    "edstay_file['ndc'] = edstay_file['ndc'].apply(lambda x: list(set(x)))\n",
    "\n",
    "# get the longest list of ndcs\n",
    "edstay_file['ndc'].apply(lambda x: len(x)).max()"
   ]
  },
  {
   "cell_type": "code",
   "execution_count": 26,
   "metadata": {},
   "outputs": [],
   "source": [
    "# sort ndc lists according to rank of ndc in top 200, put \"other\" at the end\n",
    "edstay_file['ndc'] = edstay_file['ndc'].apply(lambda x: sorted(x, key=lambda y: ncds.index(y) if y != 'other' else 999))"
   ]
  },
  {
   "cell_type": "code",
   "execution_count": 27,
   "metadata": {},
   "outputs": [
    {
     "data": {
      "text/plain": [
       "31"
      ]
     },
     "execution_count": 27,
     "metadata": {},
     "output_type": "execute_result"
    }
   ],
   "source": [
    "# get longest list\n",
    "edstay_file['ndc'].apply(lambda x: len(x)).max()"
   ]
  },
  {
   "cell_type": "code",
   "execution_count": 35,
   "metadata": {},
   "outputs": [],
   "source": [
    "uniqe_ndcs = edstay_file['ndc'].dropna().explode().unique()\n",
    "\n",
    "# remove nan\n",
    "uniqe_ndcs = [x for x in uniqe_ndcs if (type(x) == str or type(x) == int)]"
   ]
  },
  {
   "cell_type": "code",
   "execution_count": 37,
   "metadata": {},
   "outputs": [],
   "source": [
    "one_hot_ndc = pd.DataFrame(columns=uniqe_ndcs)\n",
    "\n",
    "for ndc in uniqe_ndcs:\n",
    "    one_hot_ndc[ndc] = edstay_file['ndc'].apply(lambda x: 1 if ndc in x else 0)"
   ]
  },
  {
   "cell_type": "code",
   "execution_count": 39,
   "metadata": {},
   "outputs": [],
   "source": [
    "edstay_file = edstay_file.join(one_hot_ndc)"
   ]
  },
  {
   "cell_type": "code",
   "execution_count": 41,
   "metadata": {},
   "outputs": [
    {
     "data": {
      "text/plain": [
       "(425087, 225)"
      ]
     },
     "execution_count": 41,
     "metadata": {},
     "output_type": "execute_result"
    }
   ],
   "source": [
    "edstay_file.shape"
   ]
  },
  {
   "cell_type": "code",
   "execution_count": 40,
   "metadata": {},
   "outputs": [],
   "source": [
    "edstay_file.to_csv('../processed_data/edstay_encounters_with_ndc.csv', index=False)"
   ]
  }
 ],
 "metadata": {
  "kernelspec": {
   "display_name": "ed-los-nlp-llm-thesis-UneA4U57-py3.10",
   "language": "python",
   "name": "python3"
  },
  "language_info": {
   "codemirror_mode": {
    "name": "ipython",
    "version": 3
   },
   "file_extension": ".py",
   "mimetype": "text/x-python",
   "name": "python",
   "nbconvert_exporter": "python",
   "pygments_lexer": "ipython3",
   "version": "3.10.12"
  }
 },
 "nbformat": 4,
 "nbformat_minor": 2
}
